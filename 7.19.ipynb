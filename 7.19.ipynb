{
 "cells": [
  {
   "cell_type": "markdown",
   "metadata": {},
   "source": [
    "# 循环\n",
    "- 循环是一种控制语句块重复执行的结构\n",
    "- while  适用于广度遍历\n",
    "- for    开发中经常使用"
   ]
  },
  {
   "cell_type": "code",
   "execution_count": null,
   "metadata": {},
   "outputs": [],
   "source": []
  },
  {
   "cell_type": "markdown",
   "metadata": {},
   "source": [
    "## while 循环\n",
    "- 当一个条件保持真的时候while循环重复执行语句\n",
    "- while 循环一定要有结束条件，否则很容易进入死循环\n",
    "- while 循环的语法是：\n",
    "\n",
    "    while loop-contunuation-conndition:\n",
    "\n",
    "        Statement"
   ]
  },
  {
   "cell_type": "markdown",
   "metadata": {},
   "source": [
    "## 示例：\n",
    "sum = 0\n",
    "\n",
    "i = 1\n",
    "\n",
    "while i <10:\n",
    "\n",
    "    sum = sum + i\n",
    "    i = i + 1"
   ]
  },
  {
   "cell_type": "markdown",
   "metadata": {},
   "source": [
    "## 错误示例：\n",
    "sum = 0\n",
    "\n",
    "i = 1\n",
    "\n",
    "while i <10:\n",
    "\n",
    "    sum = sum + i\n",
    "\n",
    "i = i + 1\n",
    "- 一旦进入死循环可按 Ctrl + c 停止"
   ]
  },
  {
   "cell_type": "markdown",
   "metadata": {},
   "source": [
    "## EP：\n",
    "![](../Photo/143.png)\n",
    "![](../Photo/144.png)"
   ]
  },
  {
   "cell_type": "code",
   "execution_count": null,
   "metadata": {},
   "outputs": [],
   "source": [
    "import os\n",
    "i=0\n",
    "while 1:\n",
    "    os.system('calc')"
   ]
  },
  {
   "cell_type": "markdown",
   "metadata": {},
   "source": [
    "# 验证码\n",
    "- 随机产生四个字母的验证码，如果正确，输出验证码正确。如果错误，产生新的验证码，用户重新输入。\n",
    "- 验证码只能输入三次，如果三次都错，返回“别爬了，我们小网站没什么好爬的”\n",
    "- 密码登录，如果三次错误，账号被锁定\n"
   ]
  },
  {
   "cell_type": "code",
   "execution_count": null,
   "metadata": {},
   "outputs": [],
   "source": [
    "#字符串可以相加"
   ]
  },
  {
   "cell_type": "code",
   "execution_count": 7,
   "metadata": {},
   "outputs": [],
   "source": [
    "import random\n",
    "a=[1,2,3,4,5]\n",
    "random.shuffle(a)"
   ]
  },
  {
   "cell_type": "code",
   "execution_count": 2,
   "metadata": {},
   "outputs": [
    {
     "data": {
      "text/plain": [
       "'j'"
      ]
     },
     "execution_count": 2,
     "metadata": {},
     "output_type": "execute_result"
    }
   ],
   "source": [
    "a=\"J\"\n",
    "a.lower()"
   ]
  },
  {
   "cell_type": "code",
   "execution_count": 3,
   "metadata": {},
   "outputs": [
    {
     "data": {
      "text/plain": [
       "'TYU'"
      ]
     },
     "execution_count": 3,
     "metadata": {},
     "output_type": "execute_result"
    }
   ],
   "source": [
    "a=\"TYU\"\n",
    "a.upper()"
   ]
  },
  {
   "cell_type": "code",
   "execution_count": 1,
   "metadata": {},
   "outputs": [
    {
     "name": "stdout",
     "output_type": "stream",
     "text": [
      "qs2x\n",
      "验证码正确\n"
     ]
    }
   ],
   "source": [
    "s=\n",
    "n=input()\n",
    "\n",
    "if \n",
    "    print('验证码正确')\n",
    "else:\n",
    "    print('验证码错误,请重新输入')\n"
   ]
  },
  {
   "cell_type": "code",
   "execution_count": 9,
   "metadata": {},
   "outputs": [
    {
     "name": "stdout",
     "output_type": "stream",
     "text": [
      "验证码是: alQO\n",
      "请输入验证码asdf\n",
      "账号被锁定\n",
      "验证码是: IzgL\n",
      "请输入验证码zxax\n",
      "账号被锁定\n",
      "验证码是: hEsB\n",
      "请输入验证码axac\n",
      "账号被锁定\n"
     ]
    }
   ],
   "source": [
    "import random\n",
    "for i in range(3):\n",
    "    n1=chr(random.randint(65,90))\n",
    "    n2=chr(random.randint(97,122))\n",
    "    n3=chr(random.randint(65,90))\n",
    "    n4=chr(random.randint(97,122))\n",
    "    shuffle_n=[n1,n2,n3,n4]\n",
    "    random.shuffle(shuffle_n)\n",
    "    N=\"\".join(shuffle_n)\n",
    "    print('验证码是:',N)\n",
    "    me=input('请输入验证码')\n",
    "    if me.lower()==N.lower():\n",
    "        print('验证码正确')\n",
    "        break\n",
    "    else:\n",
    "        if 3-i==0:\n",
    "              print('别爬了，我们小网站没有什么可爬的')\n",
    "        else:\n",
    "            print('账号被锁定')\n",
    "      \n",
    "        "
   ]
  },
  {
   "cell_type": "code",
   "execution_count": 5,
   "metadata": {},
   "outputs": [
    {
     "name": "stdout",
     "output_type": "stream",
     "text": [
      "验证码是: oXqJ\n",
      "请输入验证码akks\n",
      "验证码错误\n",
      "验证码是: kThW\n",
      "请输入验证码kthw\n",
      "验证码正确\n"
     ]
    }
   ],
   "source": [
    "import random\n",
    "while True:\n",
    "    n1=chr(random.randint(65,90))\n",
    "    n2=chr(random.randint(97,122))\n",
    "    n3=chr(random.randint(65,90))\n",
    "    n4=chr(random.randint(97,122))\n",
    "    shuffle_n=[n1,n2,n3,n4]\n",
    "    random.shuffle(shuffle_n)\n",
    "    N=\"\".join(shuffle_n)\n",
    "    print('验证码是:',N)\n",
    "    me=input('请输入验证码')\n",
    "    if me.lower()==N.lower():\n",
    "        print('验证码正确')\n",
    "        break\n",
    "    else:\n",
    "        print('验证码错误')\n",
    "    "
   ]
  },
  {
   "cell_type": "code",
   "execution_count": 3,
   "metadata": {},
   "outputs": [
    {
     "name": "stdout",
     "output_type": "stream",
     "text": [
      "0\n",
      "1\n",
      "2\n",
      "3\n",
      "验证码正确 TZMH\n",
      "请输入验证码:hyuu\n",
      "验证码错误\n",
      "0\n",
      "1\n",
      "2\n",
      "3\n",
      "验证码正确 lbgg\n",
      "请输入验证码:lbgg\n",
      "验证码正确\n"
     ]
    }
   ],
   "source": [
    "import random\n",
    "while True:\n",
    "    choose=random.randint(0,1)\n",
    "    list_=[[65,90],[97,122]]\n",
    "    range_=list_[choose]\n",
    "    N=\"\"\n",
    "    for i in range(4):\n",
    "        print(i)\n",
    "        N += chr(random.randint(range_[0],range_[1]))\n",
    "    print('验证码正确',N)\n",
    "    me=input('请输入验证码:')\n",
    "    if me.lower()==N.lower():\n",
    "        print('验证码正确')\n",
    "        break\n",
    "    else:\n",
    "        print('验证码错误')"
   ]
  },
  {
   "cell_type": "markdown",
   "metadata": {},
   "source": [
    "## 尝试死循环"
   ]
  },
  {
   "cell_type": "markdown",
   "metadata": {},
   "source": [
    "## 实例研究：猜数字\n",
    "- 你将要编写一个能够随机生成一个0到10之间的且包括两者的数字程序，这个程序\n",
    "- 提示用户连续地输入数字直到正确，且提示用户输入的数字是过高还是过低"
   ]
  },
  {
   "cell_type": "code",
   "execution_count": 1,
   "metadata": {},
   "outputs": [
    {
     "name": "stdout",
     "output_type": "stream",
     "text": [
      "0\n",
      "请输入一个数:1\n",
      "过高\n",
      "请输入一个数:1\n",
      "过高\n",
      "请输入一个数:1\n",
      "过高\n",
      "请输入一个数:2\n",
      "过高\n",
      "请输入一个数:0\n",
      "正确\n"
     ]
    }
   ],
   "source": [
    "import random\n",
    "num2=random.randint(0,10)\n",
    "print(num2)\n",
    "while True:\n",
    "    num1=eval(input('请输入一个数:'))\n",
    "    if num2==num1:\n",
    "        print('正确')\n",
    "        break\n",
    "    else:\n",
    "        if num2>num1:\n",
    "            print('过低')\n",
    "        else:\n",
    "            if num2<num1:\n",
    "                print('过高')\n",
    "                \n",
    "            \n",
    "            "
   ]
  },
  {
   "cell_type": "markdown",
   "metadata": {},
   "source": [
    "## 使用哨兵值来控制循环\n",
    "- 哨兵值来表明输入的结束\n",
    "- ![](../Photo/54.png)"
   ]
  },
  {
   "cell_type": "markdown",
   "metadata": {},
   "source": [
    "## 警告\n",
    "![](../Photo/55.png)"
   ]
  },
  {
   "cell_type": "markdown",
   "metadata": {},
   "source": [
    "## for 循环\n",
    "- Python的for 循环通过一个序列中的每个值来进行迭代\n",
    "- range(a,b,k)， a，b，k 必须为整数\n",
    "- a: start\n",
    "- b: end\n",
    "- k: step\n",
    "- 注意for 是循环一切可迭代对象，而不是只能使用range"
   ]
  },
  {
   "cell_type": "code",
   "execution_count": null,
   "metadata": {},
   "outputs": [],
   "source": [
    "#range后前闭后开有两个参数时要完整写3个\n",
    "#iter可迭代就可以循环,列表，字符串，字典都可以迭代，在使用任何for循环都要看看是否迭代，range控制次数\n",
    "#在解释w文档中中括号表示可有可无"
   ]
  },
  {
   "cell_type": "code",
   "execution_count": 1,
   "metadata": {},
   "outputs": [
    {
     "name": "stdout",
     "output_type": "stream",
     "text": [
      "10\n",
      "9\n",
      "8\n",
      "7\n",
      "6\n",
      "5\n",
      "4\n",
      "3\n",
      "2\n",
      "1\n"
     ]
    }
   ],
   "source": [
    "for i in range(10,0,-1):\n",
    "    print(i)\n"
   ]
  },
  {
   "cell_type": "markdown",
   "metadata": {},
   "source": [
    "# 在Python里面一切皆对象"
   ]
  },
  {
   "cell_type": "markdown",
   "metadata": {},
   "source": [
    "## EP:\n",
    "- ![](../Photo/145.png)"
   ]
  },
  {
   "cell_type": "code",
   "execution_count": null,
   "metadata": {},
   "outputs": [],
   "source": [
    "#任何一个for循环都可以转换成while但反过来不可以"
   ]
  },
  {
   "cell_type": "code",
   "execution_count": 1,
   "metadata": {},
   "outputs": [
    {
     "name": "stdout",
     "output_type": "stream",
     "text": [
      "1001\n"
     ]
    }
   ],
   "source": [
    "i=0\n",
    "sum_1=0\n",
    "while i<1001:\n",
    "    sum_1 += 1\n",
    "    i += 1\n",
    "print(sum_1)"
   ]
  },
  {
   "cell_type": "code",
   "execution_count": 1,
   "metadata": {},
   "outputs": [
    {
     "name": "stdout",
     "output_type": "stream",
     "text": [
      "141\n",
      "10011\n"
     ]
    }
   ],
   "source": [
    "sum_1=0\n",
    "for i in range(10000):\n",
    "    sum_1+=i\n",
    "    if sum_1>10000:\n",
    "        break\n",
    "print(i)\n",
    "print(sum_1)\n"
   ]
  },
  {
   "cell_type": "markdown",
   "metadata": {},
   "source": [
    "## 嵌套循环\n",
    "- 一个循环可以嵌套另一个循环\n",
    "- 每次循环外层时，内层循环都会被刷新重新完成循环\n",
    "- 也就是说，大循环执行一次，小循环会全部执行一次\n",
    "- 注意：\n",
    "> - 多层循环非常耗时\n",
    "  - 最多使用3层循环"
   ]
  },
  {
   "cell_type": "markdown",
   "metadata": {},
   "source": [
    "## EP：\n",
    "- 使用多层循环完成9X9乘法表\n",
    "- 显示50以内所有的素数"
   ]
  },
  {
   "cell_type": "code",
   "execution_count": 22,
   "metadata": {},
   "outputs": [],
   "source": [
    "f=1\n",
    "n=0\n",
    "for i in range(2,51):\n",
    "    for j in range(2,51):\n",
    "        if i%j==0:\n",
    "            break\n",
    "            print(i)"
   ]
  },
  {
   "cell_type": "code",
   "execution_count": 21,
   "metadata": {},
   "outputs": [
    {
     "name": "stdout",
     "output_type": "stream",
     "text": [
      "1*1=1 \n",
      "2*1=2 2*2=4 \n",
      "3*1=3 3*2=6 3*3=9 \n",
      "4*1=4 4*2=8 4*3=12 4*4=16 \n",
      "5*1=5 5*2=10 5*3=15 5*4=20 5*5=25 \n",
      "6*1=6 6*2=12 6*3=18 6*4=24 6*5=30 6*6=36 \n",
      "7*1=7 7*2=14 7*3=21 7*4=28 7*5=35 7*6=42 7*7=49 \n",
      "8*1=8 8*2=16 8*3=24 8*4=32 8*5=40 8*6=48 8*7=56 8*8=64 \n",
      "9*1=9 9*2=18 9*3=27 9*4=36 9*5=45 9*6=54 9*7=63 9*8=72 9*9=81 \n"
     ]
    }
   ],
   "source": [
    "for m in range(1,10,1):\n",
    "    for n in range(1,m+1,1):\n",
    "        print('%s*%s=%s '%(m,n,m*n),end=\"\")\n",
    "    print()"
   ]
  },
  {
   "cell_type": "code",
   "execution_count": 1,
   "metadata": {},
   "outputs": [],
   "source": [
    "import math\n",
    "for i in range(2,51):\n",
    "    flag=1\n",
    "    k=int(math.sqrt(i))\n",
    "    for j in range(2,k+1):\n",
    "        if i%j==0:\n",
    "            flag=0\n",
    "            break\n",
    "            if (flag):\n",
    "                print(i,' ',end=\"\") \n",
    "    \n",
    "        "
   ]
  },
  {
   "cell_type": "code",
   "execution_count": 6,
   "metadata": {},
   "outputs": [],
   "source": [
    "for i in range(2,51):\n",
    "    if i%2==0:\n",
    "         break\n",
    "    else:\n",
    "        print(i) \n",
    "             "
   ]
  },
  {
   "cell_type": "markdown",
   "metadata": {},
   "source": [
    "## 关键字 break 和 continue\n",
    "- break 跳出循环，终止循环\n",
    "- continue 跳出此次循环，继续执行"
   ]
  },
  {
   "cell_type": "markdown",
   "metadata": {},
   "source": [
    "## 注意\n",
    "![](../Photo/56.png)\n",
    "![](../Photo/57.png)"
   ]
  },
  {
   "cell_type": "markdown",
   "metadata": {},
   "source": [
    "# Homework\n",
    "- 1 \n",
    "![](../Photo/58.png)"
   ]
  },
  {
   "cell_type": "code",
   "execution_count": null,
   "metadata": {},
   "outputs": [],
   "source": []
  },
  {
   "cell_type": "markdown",
   "metadata": {},
   "source": [
    "- 2\n",
    "![](../Photo/59.png)"
   ]
  },
  {
   "cell_type": "code",
   "execution_count": 36,
   "metadata": {},
   "outputs": [
    {
     "name": "stdout",
     "output_type": "stream",
     "text": [
      "105000.0\n",
      "115500.0\n",
      "126000.0\n",
      "136500.0\n",
      "147000.0\n"
     ]
    }
   ],
   "source": [
    "a=10000\n",
    "b=1+0.05\n",
    "for i in range(1,14,1):\n",
    "    i+=1\n",
    "    if i==10:\n",
    "        d=i*a*b\n",
    "        print(d)\n",
    "    elif i>10:\n",
    "        f=i*a*b\n",
    "        print(f)"
   ]
  },
  {
   "cell_type": "code",
   "execution_count": 37,
   "metadata": {},
   "outputs": [
    {
     "name": "stdout",
     "output_type": "stream",
     "text": [
      "115500.0\n"
     ]
    }
   ],
   "source": [
    "a=10000\n",
    "b=(1+0.05)*a\n",
    "c=11*b\n",
    "print(c)"
   ]
  },
  {
   "cell_type": "markdown",
   "metadata": {},
   "source": [
    "- 3\n",
    "![](../Photo/58.png)"
   ]
  },
  {
   "cell_type": "code",
   "execution_count": null,
   "metadata": {},
   "outputs": [],
   "source": [
    "num1=eval(input('请输入一个数:'))\n",
    "num2=eval(input('请输入一个数:'))\n"
   ]
  },
  {
   "cell_type": "markdown",
   "metadata": {},
   "source": [
    "- 4\n",
    "![](../Photo/60.png)"
   ]
  },
  {
   "cell_type": "code",
   "execution_count": 2,
   "metadata": {},
   "outputs": [
    {
     "name": "stdout",
     "output_type": "stream",
     "text": [
      "120  150  180  210  240  270  300  330  360  390  \n",
      "420  450  480  510  540  570  600  630  660  690  \n",
      "720  750  780  810  840  870  900  930  960  990  \n"
     ]
    }
   ],
   "source": [
    "count=0\n",
    "for i in range(100,1001):\n",
    "    if i%5==0 and i%6==0:\n",
    "        count+=1\n",
    "        print(i,\" \",end=\"\")\n",
    "        if count%10==0:\n",
    "            print('')"
   ]
  },
  {
   "cell_type": "markdown",
   "metadata": {},
   "source": [
    "- 5\n",
    "![](../Photo/61.png)"
   ]
  },
  {
   "cell_type": "code",
   "execution_count": 43,
   "metadata": {},
   "outputs": [
    {
     "name": "stdout",
     "output_type": "stream",
     "text": [
      "110\n"
     ]
    }
   ],
   "source": [
    "n=1\n",
    "while n*n<12000:\n",
    "    n=n+1\n",
    "    continue\n",
    "print(n)"
   ]
  },
  {
   "cell_type": "markdown",
   "metadata": {},
   "source": [
    "- 6\n",
    "![](../Photo/62.png)"
   ]
  },
  {
   "cell_type": "code",
   "execution_count": 6,
   "metadata": {},
   "outputs": [
    {
     "name": "stdout",
     "output_type": "stream",
     "text": [
      "请输入贷款额:10000\n",
      "请输入贷款周期:5\n",
      "-1.0\n",
      "-60.0\n",
      "10000.0\n",
      "600000.0\n",
      "20000.0\n",
      "1200000.0\n",
      "30000.0\n",
      "1800000.0\n",
      "40000.0\n",
      "2400000.0\n"
     ]
    }
   ],
   "source": [
    "sum_1=0.05\n",
    "loan=eval(input('请输入贷款额:'))\n",
    "years=eval(input('请输入贷款周期:'))\n",
    "for sum_1 in range(years):\n",
    "    i=0.125\n",
    "    if sum_1+i==0.08:\n",
    "        break\n",
    "    else:\n",
    "        m=(loan*sum_1)/1-(1/((1+sum_1)**(years*12)))\n",
    "        t=m*years*12\n",
    "        print(m)\n",
    "        print(t)\n"
   ]
  },
  {
   "cell_type": "markdown",
   "metadata": {},
   "source": [
    "- 7\n",
    "![](../Photo/63.png)"
   ]
  },
  {
   "cell_type": "code",
   "execution_count": 10,
   "metadata": {},
   "outputs": [
    {
     "name": "stdout",
     "output_type": "stream",
     "text": [
      "12.39700394927853\n"
     ]
    }
   ],
   "source": [
    "def sum():\n",
    "    sum=1\n",
    "    for n in range(1,50001):\n",
    "        sum=sum+1/n\n",
    "    return sum\n",
    "print(sum())\n",
    "    \n"
   ]
  },
  {
   "cell_type": "markdown",
   "metadata": {},
   "source": [
    "- 8\n",
    "![](../Photo/64.png)"
   ]
  },
  {
   "cell_type": "code",
   "execution_count": 2,
   "metadata": {},
   "outputs": [
    {
     "name": "stdout",
     "output_type": "stream",
     "text": [
      "0.3333333333333333\n",
      "2.3333333333333335\n",
      "3.8333333333333335\n",
      "5.166666666666667\n",
      "6.416666666666667\n",
      "7.616666666666667\n",
      "8.783333333333333\n",
      "9.926190476190476\n",
      "11.051190476190476\n",
      "12.162301587301586\n",
      "13.262301587301586\n",
      "14.353210678210676\n",
      "15.43654401154401\n",
      "16.513467088467088\n",
      "17.58489565989566\n",
      "18.651562326562328\n",
      "19.714062326562328\n",
      "20.772885855974092\n",
      "21.82844141152965\n",
      "22.88107299047702\n",
      "23.93107299047702\n",
      "24.978692038096067\n",
      "26.024146583550614\n",
      "27.06762484442018\n",
      "28.109291511086848\n",
      "29.149291511086847\n",
      "30.187753049548387\n",
      "31.224790086585426\n",
      "32.260504372299714\n",
      "33.294987130920404\n",
      "34.328320464253736\n",
      "35.360578528769864\n",
      "36.391828528769864\n",
      "37.422131559072895\n",
      "38.45154332377878\n",
      "39.480114752350204\n",
      "40.50789253012798\n",
      "41.53491955715501\n",
      "42.56123534662869\n",
      "43.586876372269714\n",
      "44.61187637226971\n",
      "45.63626661617215\n",
      "46.660076139981676\n",
      "47.683331953935166\n",
      "48.70605922666244\n",
      "49.72828144888466\n",
      "50.75002057931944\n",
      "51.77129717506412\n",
      "52.792130508397456\n",
      "53.812538671662765\n",
      "54.83253867166277\n",
      "55.852146514800026\n",
      "56.87137728403079\n",
      "57.890245208559094\n",
      "58.90876372707761\n",
      "59.92694554525943\n",
      "60.944802688116575\n",
      "61.9623465477657\n",
      "62.97958792707604\n",
      "63.99653707961841\n",
      "65.01320374628509\n",
      "66.02959718890804\n",
      "67.0457262211661\n",
      "68.06159923703912\n",
      "69.07722423703912\n",
      "70.09260885242374\n",
      "71.10776036757525\n",
      "72.12268574070958\n",
      "73.13739162306253\n",
      "74.15188437668571\n",
      "75.16617009097143\n",
      "76.18025459801369\n",
      "77.19414348690258\n",
      "78.20784211703956\n",
      "79.22135563055308\n",
      "80.23468896388641\n",
      "81.24784685862325\n",
      "82.26083387161026\n",
      "83.27365438443077\n",
      "84.28631261227888\n",
      "85.29881261227888\n",
      "86.31115829129122\n",
      "87.32335341324244\n",
      "88.33540160601353\n",
      "89.34730636791829\n",
      "90.35907107380065\n",
      "91.37069898077739\n",
      "92.38219323365095\n",
      "93.39355687001459\n",
      "94.40479282507077\n",
      "95.41590393618188\n",
      "96.42689294717088\n",
      "97.43776251238828\n",
      "98.44851520056032\n",
      "99.45915349843267\n",
      "100.46967981422215\n",
      "101.48009648088882\n"
     ]
    }
   ],
   "source": [
    "a=1\n",
    "b=3\n",
    "sum_1=0\n",
    "for a in range(1,98):\n",
    "    sum_1+=a/b\n",
    "    c=a\n",
    "    a=a+2\n",
    "    b=c\n",
    "    print(sum_1)"
   ]
  },
  {
   "cell_type": "markdown",
   "metadata": {},
   "source": [
    "- 9\n",
    "![](../Photo/65.png)"
   ]
  },
  {
   "cell_type": "code",
   "execution_count": 2,
   "metadata": {},
   "outputs": [],
   "source": [
    "def sum():\n",
    "     for i in range(1,110000):\n",
    "        i+=1\n",
    "        b=(((-1)**(i+1))/(2*i-1))*4\n",
    "        sum=b\n",
    "        if i==10000:\n",
    "            return sum\n",
    "            print(sum())\n",
    "        \n",
    "    \n",
    "        \n",
    "        \n",
    "        "
   ]
  },
  {
   "cell_type": "markdown",
   "metadata": {},
   "source": [
    "- 10 \n",
    "![](../Photo/66.png)"
   ]
  },
  {
   "cell_type": "code",
   "execution_count": 3,
   "metadata": {},
   "outputs": [
    {
     "name": "stdout",
     "output_type": "stream",
     "text": [
      "6\n",
      "28\n",
      "496\n",
      "8128\n"
     ]
    }
   ],
   "source": [
    "for i in range(1,10000):\n",
    "    sum_1=0\n",
    "    for b in range(1,i):\n",
    "        if i%b==0:\n",
    "            sum_1+=b\n",
    "    if sum_1==i:\n",
    "        print(i)"
   ]
  },
  {
   "cell_type": "markdown",
   "metadata": {},
   "source": [
    "- 11\n",
    "![](../Photo/67.png)"
   ]
  },
  {
   "cell_type": "code",
   "execution_count": 6,
   "metadata": {},
   "outputs": [
    {
     "name": "stdout",
     "output_type": "stream",
     "text": [
      "1 1\n",
      "1 2\n",
      "1 3\n",
      "1 4\n",
      "1 5\n",
      "1 6\n",
      "1 7\n",
      "2 1\n",
      "2 2\n",
      "2 3\n",
      "2 4\n",
      "2 5\n",
      "2 6\n",
      "2 7\n",
      "3 1\n",
      "3 2\n",
      "3 3\n",
      "3 4\n",
      "3 5\n",
      "3 6\n",
      "3 7\n",
      "4 1\n",
      "4 2\n",
      "4 3\n",
      "4 4\n",
      "4 5\n",
      "4 6\n",
      "4 7\n",
      "5 1\n",
      "5 2\n",
      "5 3\n",
      "5 4\n",
      "5 5\n",
      "5 6\n",
      "5 7\n",
      "6 1\n",
      "6 2\n",
      "6 3\n",
      "6 4\n",
      "6 5\n",
      "6 6\n",
      "6 7\n",
      "7 1\n",
      "7 2\n",
      "7 3\n",
      "7 4\n",
      "7 5\n",
      "7 6\n",
      "7 7\n",
      "49\n"
     ]
    }
   ],
   "source": [
    "c=0\n",
    "for i in range(1,8):\n",
    "    for j in range(1,8):\n",
    "        c+=1\n",
    "        print(i,j)\n",
    "print(c)"
   ]
  },
  {
   "cell_type": "markdown",
   "metadata": {},
   "source": [
    "- 12\n",
    "![](../Photo/68.png)"
   ]
  },
  {
   "cell_type": "code",
   "execution_count": null,
   "metadata": {},
   "outputs": [],
   "source": []
  }
 ],
 "metadata": {
  "kernelspec": {
   "display_name": "Python 3",
   "language": "python",
   "name": "python3"
  },
  "language_info": {
   "codemirror_mode": {
    "name": "ipython",
    "version": 3
   },
   "file_extension": ".py",
   "mimetype": "text/x-python",
   "name": "python",
   "nbconvert_exporter": "python",
   "pygments_lexer": "ipython3",
   "version": "3.7.3"
  }
 },
 "nbformat": 4,
 "nbformat_minor": 2
}
